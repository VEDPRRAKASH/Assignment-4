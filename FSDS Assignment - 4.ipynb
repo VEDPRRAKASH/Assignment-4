{
 "cells": [
  {
   "cell_type": "code",
   "execution_count": 1,
   "id": "57ec0ff6",
   "metadata": {},
   "outputs": [],
   "source": [
    "#1. What exactly is []?\n",
    "#Solution: Index bracket [] is used to define list literals allowing to declare a list and it's contents in the program."
   ]
  },
  {
   "cell_type": "code",
   "execution_count": 2,
   "id": "0858299b",
   "metadata": {},
   "outputs": [],
   "source": [
    "#2. In a list of values stored in a variable called spam, how would you assign the value 'hello' as the third value? (Assume [2, 4, 6, 8, 10] are in spam.)\n",
    "#Solution: We can assign the value 'hello' as the third value by spam[2] = 'hello'.\n",
    "spam = [2, 4, 6, 8, 10]\n",
    "spam[2] = 'hello'"
   ]
  },
  {
   "cell_type": "code",
   "execution_count": 3,
   "id": "514b7a06",
   "metadata": {},
   "outputs": [
    {
     "data": {
      "text/plain": [
       "[2, 4, 'hello', 8, 10]"
      ]
     },
     "execution_count": 3,
     "metadata": {},
     "output_type": "execute_result"
    }
   ],
   "source": [
    "spam"
   ]
  },
  {
   "cell_type": "code",
   "execution_count": 4,
   "id": "d8a9936e",
   "metadata": {},
   "outputs": [],
   "source": [
    "#Let's pretend the spam includes the list ['a', 'b', 'c', 'd'] for the next three queries.\n",
    "#3. What is the value of spam[int(int('3' * 2) / 11)]?\n",
    "#Solution: spam[3] = 'd'"
   ]
  },
  {
   "cell_type": "code",
   "execution_count": 5,
   "id": "9a3be31a",
   "metadata": {},
   "outputs": [],
   "source": [
    "#4. What is the value of spam[-1]?\n",
    "#Solution: spam[-1] = 'd'"
   ]
  },
  {
   "cell_type": "code",
   "execution_count": 6,
   "id": "f62438fc",
   "metadata": {},
   "outputs": [],
   "source": [
    "#5. What is the value of spam[:2]?\n",
    "#Solution: spam[:2] = ['a', 'b']"
   ]
  },
  {
   "cell_type": "code",
   "execution_count": 7,
   "id": "62d6d621",
   "metadata": {},
   "outputs": [],
   "source": [
    "#Let's pretend bacon has the list [3.14, 'cat', 11, 'cat', True] for the next three questions."
   ]
  },
  {
   "cell_type": "code",
   "execution_count": 8,
   "id": "728d7b79",
   "metadata": {},
   "outputs": [],
   "source": [
    "#6. What is the value of bacon.index('cat')?\n",
    "#Solution: bacon.index('cat') = 1"
   ]
  },
  {
   "cell_type": "code",
   "execution_count": 9,
   "id": "4d9b7249",
   "metadata": {},
   "outputs": [],
   "source": [
    "#7. How does bacon.append(99) change the look of the list value in bacon?\n",
    "#Solution: After the command bacon.append(99), the list bacon will be : [3.14, 'cat', 11, 'cat', True, 99]."
   ]
  },
  {
   "cell_type": "code",
   "execution_count": 10,
   "id": "b02db818",
   "metadata": {},
   "outputs": [],
   "source": [
    "#8. How does bacon.remove('cat') change the look of the list in bacon?\n",
    "#Solution: After the command bacon.remove('cat'), the list bacon will be: [3.14, 11, 'cat', True, 99]"
   ]
  },
  {
   "cell_type": "code",
   "execution_count": 11,
   "id": "e734d19c",
   "metadata": {},
   "outputs": [],
   "source": [
    "#9. What are the list concatenation and list replication operators?\n",
    "#Solution: The list concatenation operator is '+' and the list replication operator is '*'."
   ]
  },
  {
   "cell_type": "code",
   "execution_count": 12,
   "id": "701ca41c",
   "metadata": {},
   "outputs": [],
   "source": [
    "#10. What is difference between the list methods append() and insert()?\n",
    "#Solution: append() can only add the value at the end of the list whereas insert() can add the value at any specified position in the list."
   ]
  },
  {
   "cell_type": "code",
   "execution_count": 13,
   "id": "046708d9",
   "metadata": {},
   "outputs": [],
   "source": [
    "#11. What are the two methods for removing items from a list?\n",
    "#Solution: The del statement and remove() are the two methods for removing items from a list."
   ]
  },
  {
   "cell_type": "code",
   "execution_count": 14,
   "id": "b320446c",
   "metadata": {},
   "outputs": [],
   "source": [
    "#12. Describe how list values and string values are identical.\n",
    "#Solution: Both list and string can be passed to len(); Both list and string have indexes and both can be used in loops."
   ]
  },
  {
   "cell_type": "code",
   "execution_count": 15,
   "id": "a3eaf725",
   "metadata": {},
   "outputs": [],
   "source": [
    "#13. What's the difference between tuples and lists?\n",
    "#Solution: In list the values can be added or removed i.e list is mutable. List is included in []. Whereas in tuples the values cannot be added or removed i.e immutable. Tuple is written in ().\n"
   ]
  },
  {
   "cell_type": "code",
   "execution_count": 16,
   "id": "e9495f7e",
   "metadata": {},
   "outputs": [],
   "source": [
    "#14. How do you type a tuple value that only contains the integer 42?\n",
    "#Solution: (42,)"
   ]
  },
  {
   "cell_type": "code",
   "execution_count": 17,
   "id": "b35d9a32",
   "metadata": {},
   "outputs": [],
   "source": [
    "#15. How do you get a list value's tuple form? How do you get a tuple value's list form?\n",
    "#Solution: We can get the tuple form of the list values by using tuple() and we can get the list form of tuple value's by using list()."
   ]
  },
  {
   "cell_type": "code",
   "execution_count": 18,
   "id": "35cdbfbd",
   "metadata": {},
   "outputs": [],
   "source": [
    "#16. Variables that \"contain\" list values are not necessarily lists themselves. Instead, what do they contain?\n",
    "#Solution: The variables contain the reference to the list values."
   ]
  },
  {
   "cell_type": "code",
   "execution_count": 20,
   "id": "618f65df",
   "metadata": {},
   "outputs": [],
   "source": [
    "#17. How do you distinguish between copy.copy() and copy.deepcopy()?\n",
    "#Solution: copy.copy() will do the partial copy of the list whereas copy.deepcopy() will do the deep copy of the list i.e it will copy any list inside the list."
   ]
  }
 ],
 "metadata": {
  "kernelspec": {
   "display_name": "Python 3 (ipykernel)",
   "language": "python",
   "name": "python3"
  },
  "language_info": {
   "codemirror_mode": {
    "name": "ipython",
    "version": 3
   },
   "file_extension": ".py",
   "mimetype": "text/x-python",
   "name": "python",
   "nbconvert_exporter": "python",
   "pygments_lexer": "ipython3",
   "version": "3.9.7"
  }
 },
 "nbformat": 4,
 "nbformat_minor": 5
}
